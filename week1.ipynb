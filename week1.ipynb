{
  "nbformat": 4,
  "nbformat_minor": 0,
  "metadata": {
    "colab": {
      "name": "week1.ipynb",
      "provenance": [],
      "collapsed_sections": [],
      "authorship_tag": "ABX9TyN7bArlh0JuYIU6bOR2qSV3",
      "include_colab_link": true
    },
    "kernelspec": {
      "name": "python3",
      "display_name": "Python 3"
    },
    "language_info": {
      "name": "python"
    }
  },
  "cells": [
    {
      "cell_type": "markdown",
      "metadata": {
        "id": "view-in-github",
        "colab_type": "text"
      },
      "source": [
        "<a href=\"https://colab.research.google.com/github/omerceyhann/omerceyhann/blob/main/week1.ipynb\" target=\"_parent\"><img src=\"https://colab.research.google.com/assets/colab-badge.svg\" alt=\"Open In Colab\"/></a>"
      ]
    },
    {
      "cell_type": "code",
      "execution_count": 9,
      "metadata": {
        "colab": {
          "base_uri": "https://localhost:8080/"
        },
        "id": "pkYBpHxq_Ywk",
        "outputId": "1a2903bf-3fc4-49c1-9339-2a32b898af11"
      },
      "outputs": [
        {
          "output_type": "stream",
          "name": "stdout",
          "text": [
            "dict_keys(['Turkey', 'Ukrain'])\n",
            "dict_values(['Istanbul', 'Kiev'])\n"
          ]
        }
      ],
      "source": [
        "#DICTIONARY PYTHONS\n",
        "\n",
        "#create dictionary and look its keys and values // KEY= COUNTRYS, VALUES= CAPITAL CITY\n",
        "dictionary = {'Turkey' : 'Istanbul','Ukrain' : 'Kiev'}\n",
        "print(dictionary.keys())\n",
        "print(dictionary.values())"
      ]
    },
    {
      "cell_type": "code",
      "source": [
        "# Keys have to be immutable objects like string, boolean, float, integer or tubles\n",
        "# List is not immutable\n",
        "# Keys are unique\n",
        "dictionary['Turkey'] = \"Istanbul\"    # update existing entry\n",
        "print(dictionary)\n",
        "dictionary['Israel'] = \"Tel Aviv\"       # Add new entry\n",
        "print(dictionary)\n",
        "del dictionary['Israel']              # remove entry with key 'spain'\n",
        "print(dictionary)\n",
        "print('france' in dictionary)        # check include or not\n",
        "dictionary.clear()                   # remove all entries in dict\n",
        "print(dictionary)"
      ],
      "metadata": {
        "colab": {
          "base_uri": "https://localhost:8080/"
        },
        "id": "klf6NmJHObsq",
        "outputId": "7fbb3bd7-64f9-4179-e327-af649f0b7ac3"
      },
      "execution_count": 6,
      "outputs": [
        {
          "output_type": "stream",
          "name": "stdout",
          "text": [
            "{'Turkey': 'Istanbul'}\n",
            "{'Turkey': 'Istanbul', 'Israel': 'Tel Aviv'}\n",
            "{'Turkey': 'Istanbul'}\n",
            "False\n",
            "{}\n"
          ]
        }
      ]
    },
    {
      "cell_type": "code",
      "source": [
        "print(dictionary)       # it gives error because dictionary is deleted\n"
      ],
      "metadata": {
        "colab": {
          "base_uri": "https://localhost:8080/"
        },
        "id": "KEhy2tB4OuWl",
        "outputId": "cef4d542-6444-4ecb-b06a-8eb35eb959aa"
      },
      "execution_count": 8,
      "outputs": [
        {
          "output_type": "stream",
          "name": "stdout",
          "text": [
            "{}\n"
          ]
        }
      ]
    }
  ]
}